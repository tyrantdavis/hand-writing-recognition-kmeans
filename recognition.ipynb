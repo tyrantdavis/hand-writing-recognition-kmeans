{
 "cells": [
  {
   "cell_type": "markdown",
   "id": "f3f4580b-6360-4b25-a60e-378efb0271c8",
   "metadata": {},
   "source": [
    "# Import Software Packages"
   ]
  },
  {
   "cell_type": "code",
   "execution_count": 1,
   "id": "7df096b2-96b9-4f2f-a93a-992108ba9151",
   "metadata": {},
   "outputs": [
    {
     "name": "stdout",
     "output_type": "stream",
     "text": [
      "Libraries used in this project:\n",
      "- NumPy 1.24.3\n",
      "- Matplotlib 3.7.2\n",
      "- scikit-learn 1.3.2\n",
      "\n"
     ]
    }
   ],
   "source": [
    "import warnings  # Suppress warnings\n",
    "from time import time  # Calculate training time.\n",
    "\n",
    "import matplotlib\n",
    "import numpy as np\n",
    "import pandas as pd\n",
    "import sklearn\n",
    "import test_samples\n",
    "from matplotlib import pyplot as plt\n",
    "from sklearn import datasets\n",
    "from sklearn.cluster import KMeans\n",
    "from sklearn.decomposition import PCA\n",
    "from sklearn.metrics import (\n",
    "    adjusted_rand_score,\n",
    "    calinski_harabasz_score,\n",
    "    davies_bouldin_score,\n",
    "    mutual_info_score,\n",
    "    silhouette_score,\n",
    ")\n",
    "from yellowbrick.cluster import KElbowVisualizer, SilhouetteVisualizer\n",
    "\n",
    "warnings.filterwarnings(\"ignore\")\n",
    "\n",
    "# Summarize software libraries used.\n",
    "print(\"Libraries used in this project:\")\n",
    "print(\"- NumPy {}\".format(np.__version__))\n",
    "print(\"- Matplotlib {}\".format(matplotlib.__version__))\n",
    "print(\"- scikit-learn {}\\n\".format(sklearn.__version__))"
   ]
  },
  {
   "cell_type": "markdown",
   "id": "5d82a7ab-096a-4844-86c5-5a8415ffe285",
   "metadata": {},
   "source": [
    "# Load the Dataset\n",
    "\n",
    "When you begin working with a dataset, it's beneficial to review the data description to uncover insights that you can gain right from the start."
   ]
  },
  {
   "cell_type": "code",
   "execution_count": 2,
   "id": "75464369-c7c4-4769-ad00-c71c4cb014a3",
   "metadata": {},
   "outputs": [
    {
     "name": "stdout",
     "output_type": "stream",
     "text": [
      ".. _digits_dataset:\n",
      "\n",
      "Optical recognition of handwritten digits dataset\n",
      "--------------------------------------------------\n",
      "\n",
      "**Data Set Characteristics:**\n",
      "\n",
      "    :Number of Instances: 1797\n",
      "    :Number of Attributes: 64\n",
      "    :Attribute Information: 8x8 image of integer pixels in the range 0..16.\n",
      "    :Missing Attribute Values: None\n",
      "    :Creator: E. Alpaydin (alpaydin '@' boun.edu.tr)\n",
      "    :Date: July; 1998\n",
      "\n",
      "This is a copy of the test set of the UCI ML hand-written digits datasets\n",
      "https://archive.ics.uci.edu/ml/datasets/Optical+Recognition+of+Handwritten+Digits\n",
      "\n",
      "The data set contains images of hand-written digits: 10 classes where\n",
      "each class refers to a digit.\n",
      "\n",
      "Preprocessing programs made available by NIST were used to extract\n",
      "normalized bitmaps of handwritten digits from a preprinted form. From a\n",
      "total of 43 people, 30 contributed to the training set and different 13\n",
      "to the test set. 32x32 bitmaps are divided into nonoverlapping blocks of\n",
      "4x4 and the number of on pixels are counted in each block. This generates\n",
      "an input matrix of 8x8 where each element is an integer in the range\n",
      "0..16. This reduces dimensionality and gives invariance to small\n",
      "distortions.\n",
      "\n",
      "For info on NIST preprocessing routines, see M. D. Garris, J. L. Blue, G.\n",
      "T. Candela, D. L. Dimmick, J. Geist, P. J. Grother, S. A. Janet, and C.\n",
      "L. Wilson, NIST Form-Based Handprint Recognition System, NISTIR 5469,\n",
      "1994.\n",
      "\n",
      "|details-start|\n",
      "**References**\n",
      "|details-split|\n",
      "\n",
      "- C. Kaynak (1995) Methods of Combining Multiple Classifiers and Their\n",
      "  Applications to Handwritten Digit Recognition, MSc Thesis, Institute of\n",
      "  Graduate Studies in Science and Engineering, Bogazici University.\n",
      "- E. Alpaydin, C. Kaynak (1998) Cascading Classifiers, Kybernetika.\n",
      "- Ken Tang and Ponnuthurai N. Suganthan and Xi Yao and A. Kai Qin.\n",
      "  Linear dimensionalityreduction using relevance weighted LDA. School of\n",
      "  Electrical and Electronic Engineering Nanyang Technological University.\n",
      "  2005.\n",
      "- Claudio Gentile. A New Approximate Maximal Margin Classification\n",
      "  Algorithm. NIPS. 2000.\n",
      "\n",
      "|details-end|\n"
     ]
    }
   ],
   "source": [
    "digits = datasets.load_digits()\n",
    "print(digits.DESCR)"
   ]
  },
  {
   "cell_type": "markdown",
   "id": "790c3876-c6cb-407e-b33c-8aa6a1053b20",
   "metadata": {},
   "source": [
    "**Spotlights**\n",
    "\n",
    "- The images of the digits are sized at 8 by 8 pixels\n",
    "- The dataset originates from Bogazici University located in Istanbul, Turkey.\n",
    "- There are 64 attributes in the dataset.\n",
    "- There are no missing values."
   ]
  },
  {
   "cell_type": "markdown",
   "id": "9c36fb92-f22e-427f-94bf-b1bf0a10ebbc",
   "metadata": {},
   "source": [
    "### Examine Dataset Samples"
   ]
  },
  {
   "cell_type": "code",
   "execution_count": 3,
   "id": "5e5866b0-b6cd-4dbb-8a2a-a7e4221b7e3c",
   "metadata": {},
   "outputs": [
    {
     "data": {
      "text/html": [
       "<div>\n",
       "<style scoped>\n",
       "    .dataframe tbody tr th:only-of-type {\n",
       "        vertical-align: middle;\n",
       "    }\n",
       "\n",
       "    .dataframe tbody tr th {\n",
       "        vertical-align: top;\n",
       "    }\n",
       "\n",
       "    .dataframe thead th {\n",
       "        text-align: right;\n",
       "    }\n",
       "</style>\n",
       "<table border=\"1\" class=\"dataframe\">\n",
       "  <thead>\n",
       "    <tr style=\"text-align: right;\">\n",
       "      <th></th>\n",
       "      <th>pixel_0_0</th>\n",
       "      <th>pixel_0_1</th>\n",
       "      <th>pixel_0_2</th>\n",
       "      <th>pixel_0_3</th>\n",
       "      <th>pixel_0_4</th>\n",
       "      <th>pixel_0_5</th>\n",
       "      <th>pixel_0_6</th>\n",
       "      <th>pixel_0_7</th>\n",
       "      <th>pixel_1_0</th>\n",
       "      <th>pixel_1_1</th>\n",
       "      <th>...</th>\n",
       "      <th>pixel_6_6</th>\n",
       "      <th>pixel_6_7</th>\n",
       "      <th>pixel_7_0</th>\n",
       "      <th>pixel_7_1</th>\n",
       "      <th>pixel_7_2</th>\n",
       "      <th>pixel_7_3</th>\n",
       "      <th>pixel_7_4</th>\n",
       "      <th>pixel_7_5</th>\n",
       "      <th>pixel_7_6</th>\n",
       "      <th>pixel_7_7</th>\n",
       "    </tr>\n",
       "  </thead>\n",
       "  <tbody>\n",
       "    <tr>\n",
       "      <th>0</th>\n",
       "      <td>0.0</td>\n",
       "      <td>0.0</td>\n",
       "      <td>5.0</td>\n",
       "      <td>13.0</td>\n",
       "      <td>9.0</td>\n",
       "      <td>1.0</td>\n",
       "      <td>0.0</td>\n",
       "      <td>0.0</td>\n",
       "      <td>0.0</td>\n",
       "      <td>0.0</td>\n",
       "      <td>...</td>\n",
       "      <td>0.0</td>\n",
       "      <td>0.0</td>\n",
       "      <td>0.0</td>\n",
       "      <td>0.0</td>\n",
       "      <td>6.0</td>\n",
       "      <td>13.0</td>\n",
       "      <td>10.0</td>\n",
       "      <td>0.0</td>\n",
       "      <td>0.0</td>\n",
       "      <td>0.0</td>\n",
       "    </tr>\n",
       "    <tr>\n",
       "      <th>1</th>\n",
       "      <td>0.0</td>\n",
       "      <td>0.0</td>\n",
       "      <td>0.0</td>\n",
       "      <td>12.0</td>\n",
       "      <td>13.0</td>\n",
       "      <td>5.0</td>\n",
       "      <td>0.0</td>\n",
       "      <td>0.0</td>\n",
       "      <td>0.0</td>\n",
       "      <td>0.0</td>\n",
       "      <td>...</td>\n",
       "      <td>0.0</td>\n",
       "      <td>0.0</td>\n",
       "      <td>0.0</td>\n",
       "      <td>0.0</td>\n",
       "      <td>0.0</td>\n",
       "      <td>11.0</td>\n",
       "      <td>16.0</td>\n",
       "      <td>10.0</td>\n",
       "      <td>0.0</td>\n",
       "      <td>0.0</td>\n",
       "    </tr>\n",
       "    <tr>\n",
       "      <th>2</th>\n",
       "      <td>0.0</td>\n",
       "      <td>0.0</td>\n",
       "      <td>0.0</td>\n",
       "      <td>4.0</td>\n",
       "      <td>15.0</td>\n",
       "      <td>12.0</td>\n",
       "      <td>0.0</td>\n",
       "      <td>0.0</td>\n",
       "      <td>0.0</td>\n",
       "      <td>0.0</td>\n",
       "      <td>...</td>\n",
       "      <td>5.0</td>\n",
       "      <td>0.0</td>\n",
       "      <td>0.0</td>\n",
       "      <td>0.0</td>\n",
       "      <td>0.0</td>\n",
       "      <td>3.0</td>\n",
       "      <td>11.0</td>\n",
       "      <td>16.0</td>\n",
       "      <td>9.0</td>\n",
       "      <td>0.0</td>\n",
       "    </tr>\n",
       "    <tr>\n",
       "      <th>3</th>\n",
       "      <td>0.0</td>\n",
       "      <td>0.0</td>\n",
       "      <td>7.0</td>\n",
       "      <td>15.0</td>\n",
       "      <td>13.0</td>\n",
       "      <td>1.0</td>\n",
       "      <td>0.0</td>\n",
       "      <td>0.0</td>\n",
       "      <td>0.0</td>\n",
       "      <td>8.0</td>\n",
       "      <td>...</td>\n",
       "      <td>9.0</td>\n",
       "      <td>0.0</td>\n",
       "      <td>0.0</td>\n",
       "      <td>0.0</td>\n",
       "      <td>7.0</td>\n",
       "      <td>13.0</td>\n",
       "      <td>13.0</td>\n",
       "      <td>9.0</td>\n",
       "      <td>0.0</td>\n",
       "      <td>0.0</td>\n",
       "    </tr>\n",
       "    <tr>\n",
       "      <th>4</th>\n",
       "      <td>0.0</td>\n",
       "      <td>0.0</td>\n",
       "      <td>0.0</td>\n",
       "      <td>1.0</td>\n",
       "      <td>11.0</td>\n",
       "      <td>0.0</td>\n",
       "      <td>0.0</td>\n",
       "      <td>0.0</td>\n",
       "      <td>0.0</td>\n",
       "      <td>0.0</td>\n",
       "      <td>...</td>\n",
       "      <td>0.0</td>\n",
       "      <td>0.0</td>\n",
       "      <td>0.0</td>\n",
       "      <td>0.0</td>\n",
       "      <td>0.0</td>\n",
       "      <td>2.0</td>\n",
       "      <td>16.0</td>\n",
       "      <td>4.0</td>\n",
       "      <td>0.0</td>\n",
       "      <td>0.0</td>\n",
       "    </tr>\n",
       "  </tbody>\n",
       "</table>\n",
       "<p>5 rows × 64 columns</p>\n",
       "</div>"
      ],
      "text/plain": [
       "   pixel_0_0  pixel_0_1  pixel_0_2  pixel_0_3  pixel_0_4  pixel_0_5  \\\n",
       "0        0.0        0.0        5.0       13.0        9.0        1.0   \n",
       "1        0.0        0.0        0.0       12.0       13.0        5.0   \n",
       "2        0.0        0.0        0.0        4.0       15.0       12.0   \n",
       "3        0.0        0.0        7.0       15.0       13.0        1.0   \n",
       "4        0.0        0.0        0.0        1.0       11.0        0.0   \n",
       "\n",
       "   pixel_0_6  pixel_0_7  pixel_1_0  pixel_1_1  ...  pixel_6_6  pixel_6_7  \\\n",
       "0        0.0        0.0        0.0        0.0  ...        0.0        0.0   \n",
       "1        0.0        0.0        0.0        0.0  ...        0.0        0.0   \n",
       "2        0.0        0.0        0.0        0.0  ...        5.0        0.0   \n",
       "3        0.0        0.0        0.0        8.0  ...        9.0        0.0   \n",
       "4        0.0        0.0        0.0        0.0  ...        0.0        0.0   \n",
       "\n",
       "   pixel_7_0  pixel_7_1  pixel_7_2  pixel_7_3  pixel_7_4  pixel_7_5  \\\n",
       "0        0.0        0.0        6.0       13.0       10.0        0.0   \n",
       "1        0.0        0.0        0.0       11.0       16.0       10.0   \n",
       "2        0.0        0.0        0.0        3.0       11.0       16.0   \n",
       "3        0.0        0.0        7.0       13.0       13.0        9.0   \n",
       "4        0.0        0.0        0.0        2.0       16.0        4.0   \n",
       "\n",
       "   pixel_7_6  pixel_7_7  \n",
       "0        0.0        0.0  \n",
       "1        0.0        0.0  \n",
       "2        9.0        0.0  \n",
       "3        0.0        0.0  \n",
       "4        0.0        0.0  \n",
       "\n",
       "[5 rows x 64 columns]"
      ]
     },
     "execution_count": 3,
     "metadata": {},
     "output_type": "execute_result"
    }
   ],
   "source": [
    "df = pd.DataFrame(digits.data, columns=digits.feature_names)\n",
    "df.head()"
   ]
  },
  {
   "cell_type": "markdown",
   "id": "4d5e1d51-8318-40f9-b596-228755de0242",
   "metadata": {},
   "source": [
    "**Spotlights**\n",
    "\n",
    "Each entry consists of a collection of 64 values that correspond to the colors of the pixels in an image, ranging from 0 to 16. In this scale, 0 signifies white, while 16 indicates black."
   ]
  },
  {
   "cell_type": "markdown",
   "id": "f4deb374-c17d-4e46-b3c2-f7e0d38ad552",
   "metadata": {},
   "source": [
    "### Examine the Dataset "
   ]
  },
  {
   "cell_type": "code",
   "execution_count": 4,
   "id": "75c721d0-3725-4741-b3a7-eea873da060a",
   "metadata": {},
   "outputs": [
    {
     "name": "stdout",
     "output_type": "stream",
     "text": [
      "<class 'pandas.core.frame.DataFrame'>\n",
      "RangeIndex: 1797 entries, 0 to 1796\n",
      "Data columns (total 64 columns):\n",
      " #   Column     Non-Null Count  Dtype  \n",
      "---  ------     --------------  -----  \n",
      " 0   pixel_0_0  1797 non-null   float64\n",
      " 1   pixel_0_1  1797 non-null   float64\n",
      " 2   pixel_0_2  1797 non-null   float64\n",
      " 3   pixel_0_3  1797 non-null   float64\n",
      " 4   pixel_0_4  1797 non-null   float64\n",
      " 5   pixel_0_5  1797 non-null   float64\n",
      " 6   pixel_0_6  1797 non-null   float64\n",
      " 7   pixel_0_7  1797 non-null   float64\n",
      " 8   pixel_1_0  1797 non-null   float64\n",
      " 9   pixel_1_1  1797 non-null   float64\n",
      " 10  pixel_1_2  1797 non-null   float64\n",
      " 11  pixel_1_3  1797 non-null   float64\n",
      " 12  pixel_1_4  1797 non-null   float64\n",
      " 13  pixel_1_5  1797 non-null   float64\n",
      " 14  pixel_1_6  1797 non-null   float64\n",
      " 15  pixel_1_7  1797 non-null   float64\n",
      " 16  pixel_2_0  1797 non-null   float64\n",
      " 17  pixel_2_1  1797 non-null   float64\n",
      " 18  pixel_2_2  1797 non-null   float64\n",
      " 19  pixel_2_3  1797 non-null   float64\n",
      " 20  pixel_2_4  1797 non-null   float64\n",
      " 21  pixel_2_5  1797 non-null   float64\n",
      " 22  pixel_2_6  1797 non-null   float64\n",
      " 23  pixel_2_7  1797 non-null   float64\n",
      " 24  pixel_3_0  1797 non-null   float64\n",
      " 25  pixel_3_1  1797 non-null   float64\n",
      " 26  pixel_3_2  1797 non-null   float64\n",
      " 27  pixel_3_3  1797 non-null   float64\n",
      " 28  pixel_3_4  1797 non-null   float64\n",
      " 29  pixel_3_5  1797 non-null   float64\n",
      " 30  pixel_3_6  1797 non-null   float64\n",
      " 31  pixel_3_7  1797 non-null   float64\n",
      " 32  pixel_4_0  1797 non-null   float64\n",
      " 33  pixel_4_1  1797 non-null   float64\n",
      " 34  pixel_4_2  1797 non-null   float64\n",
      " 35  pixel_4_3  1797 non-null   float64\n",
      " 36  pixel_4_4  1797 non-null   float64\n",
      " 37  pixel_4_5  1797 non-null   float64\n",
      " 38  pixel_4_6  1797 non-null   float64\n",
      " 39  pixel_4_7  1797 non-null   float64\n",
      " 40  pixel_5_0  1797 non-null   float64\n",
      " 41  pixel_5_1  1797 non-null   float64\n",
      " 42  pixel_5_2  1797 non-null   float64\n",
      " 43  pixel_5_3  1797 non-null   float64\n",
      " 44  pixel_5_4  1797 non-null   float64\n",
      " 45  pixel_5_5  1797 non-null   float64\n",
      " 46  pixel_5_6  1797 non-null   float64\n",
      " 47  pixel_5_7  1797 non-null   float64\n",
      " 48  pixel_6_0  1797 non-null   float64\n",
      " 49  pixel_6_1  1797 non-null   float64\n",
      " 50  pixel_6_2  1797 non-null   float64\n",
      " 51  pixel_6_3  1797 non-null   float64\n",
      " 52  pixel_6_4  1797 non-null   float64\n",
      " 53  pixel_6_5  1797 non-null   float64\n",
      " 54  pixel_6_6  1797 non-null   float64\n",
      " 55  pixel_6_7  1797 non-null   float64\n",
      " 56  pixel_7_0  1797 non-null   float64\n",
      " 57  pixel_7_1  1797 non-null   float64\n",
      " 58  pixel_7_2  1797 non-null   float64\n",
      " 59  pixel_7_3  1797 non-null   float64\n",
      " 60  pixel_7_4  1797 non-null   float64\n",
      " 61  pixel_7_5  1797 non-null   float64\n",
      " 62  pixel_7_6  1797 non-null   float64\n",
      " 63  pixel_7_7  1797 non-null   float64\n",
      "dtypes: float64(64)\n",
      "memory usage: 898.6 KB\n"
     ]
    }
   ],
   "source": [
    "df.info()"
   ]
  },
  {
   "cell_type": "markdown",
   "id": "bc60f9fb-50f5-463e-8ba3-e567f22d30b6",
   "metadata": {},
   "source": [
    "**Spotlights** \n",
    "\n",
    "- There are 1797 records.\n",
    "- There are 64 attributes in the dataset all of which are float values.\n",
    "- There are no missing records.\n",
    "- The column names are pixel_0_0 - pixel_7_7"
   ]
  },
  {
   "cell_type": "markdown",
   "id": "96c1ebed-ad3f-4040-b5b4-56ab9050aba8",
   "metadata": {},
   "source": [
    "### Create Target Labels"
   ]
  },
  {
   "cell_type": "code",
   "execution_count": 5,
   "id": "04a28428-18ff-4fca-9680-158dbdb40ad5",
   "metadata": {},
   "outputs": [],
   "source": [
    "labels = pd.DataFrame(digits.target)"
   ]
  },
  {
   "cell_type": "code",
   "execution_count": 6,
   "id": "a13140c6-a2a0-401e-add3-c3cff94a57a1",
   "metadata": {},
   "outputs": [
    {
     "data": {
      "text/html": [
       "<div>\n",
       "<style scoped>\n",
       "    .dataframe tbody tr th:only-of-type {\n",
       "        vertical-align: middle;\n",
       "    }\n",
       "\n",
       "    .dataframe tbody tr th {\n",
       "        vertical-align: top;\n",
       "    }\n",
       "\n",
       "    .dataframe thead th {\n",
       "        text-align: right;\n",
       "    }\n",
       "</style>\n",
       "<table border=\"1\" class=\"dataframe\">\n",
       "  <thead>\n",
       "    <tr style=\"text-align: right;\">\n",
       "      <th></th>\n",
       "      <th>0</th>\n",
       "    </tr>\n",
       "  </thead>\n",
       "  <tbody>\n",
       "    <tr>\n",
       "      <th>0</th>\n",
       "      <td>0</td>\n",
       "    </tr>\n",
       "    <tr>\n",
       "      <th>1</th>\n",
       "      <td>1</td>\n",
       "    </tr>\n",
       "    <tr>\n",
       "      <th>2</th>\n",
       "      <td>2</td>\n",
       "    </tr>\n",
       "    <tr>\n",
       "      <th>3</th>\n",
       "      <td>3</td>\n",
       "    </tr>\n",
       "    <tr>\n",
       "      <th>4</th>\n",
       "      <td>4</td>\n",
       "    </tr>\n",
       "    <tr>\n",
       "      <th>...</th>\n",
       "      <td>...</td>\n",
       "    </tr>\n",
       "    <tr>\n",
       "      <th>1792</th>\n",
       "      <td>9</td>\n",
       "    </tr>\n",
       "    <tr>\n",
       "      <th>1793</th>\n",
       "      <td>0</td>\n",
       "    </tr>\n",
       "    <tr>\n",
       "      <th>1794</th>\n",
       "      <td>8</td>\n",
       "    </tr>\n",
       "    <tr>\n",
       "      <th>1795</th>\n",
       "      <td>9</td>\n",
       "    </tr>\n",
       "    <tr>\n",
       "      <th>1796</th>\n",
       "      <td>8</td>\n",
       "    </tr>\n",
       "  </tbody>\n",
       "</table>\n",
       "<p>1797 rows × 1 columns</p>\n",
       "</div>"
      ],
      "text/plain": [
       "      0\n",
       "0     0\n",
       "1     1\n",
       "2     2\n",
       "3     3\n",
       "4     4\n",
       "...  ..\n",
       "1792  9\n",
       "1793  0\n",
       "1794  8\n",
       "1795  9\n",
       "1796  8\n",
       "\n",
       "[1797 rows x 1 columns]"
      ]
     },
     "execution_count": 6,
     "metadata": {},
     "output_type": "execute_result"
    }
   ],
   "source": [
    "labels"
   ]
  },
  {
   "cell_type": "markdown",
   "id": "f65ff0d9-5640-426d-b1cf-e19b41b823c2",
   "metadata": {},
   "source": [
    "**Spotlights**\n",
    "\n",
    "This indicates that the initial data point in the collection was labeled as a 0, while the final one received a label of 8."
   ]
  },
  {
   "cell_type": "markdown",
   "id": "3671fd45-213e-4850-97e2-4a13289e44f4",
   "metadata": {},
   "source": [
    "### Count Unique Labels"
   ]
  },
  {
   "cell_type": "code",
   "execution_count": 7,
   "id": "0f30acf0-f351-49e3-b14e-8c82a000d35f",
   "metadata": {},
   "outputs": [
    {
     "name": "stdout",
     "output_type": "stream",
     "text": [
      "There are 10 distinct labels (0 - 9).\n"
     ]
    }
   ],
   "source": [
    "lcount = len(labels.value_counts())\n",
    "print(f\"There are {lcount} distinct labels (0 - {lcount - 1}).\")"
   ]
  },
  {
   "cell_type": "markdown",
   "id": "c1d1cded-8d6b-41cf-8872-055591a11acd",
   "metadata": {},
   "source": [
    "### Count Label Classes"
   ]
  },
  {
   "cell_type": "code",
   "execution_count": 8,
   "id": "9dfc50f6-9fe2-4e94-ad96-4456118f918c",
   "metadata": {},
   "outputs": [
    {
     "data": {
      "text/plain": [
       "3    183\n",
       "1    182\n",
       "5    182\n",
       "4    181\n",
       "6    181\n",
       "9    180\n",
       "7    179\n",
       "0    178\n",
       "2    177\n",
       "8    174\n",
       "Name: count, dtype: int64"
      ]
     },
     "execution_count": 8,
     "metadata": {},
     "output_type": "execute_result"
    }
   ],
   "source": [
    "labels.value_counts()"
   ]
  },
  {
   "cell_type": "markdown",
   "id": "1b8e83a4-aa70-458f-a430-f140141f8b15",
   "metadata": {},
   "source": [
    "### Plot Target Label Distributions"
   ]
  },
  {
   "cell_type": "code",
   "execution_count": 9,
   "id": "355c1c77-06e0-47d5-a756-de6b271b1722",
   "metadata": {},
   "outputs": [
    {
     "data": {
      "text/plain": [
       "<Axes: title={'center': 'Count Label(0-9) Distrbutions'}, ylabel='0'>"
      ]
     },
     "execution_count": 9,
     "metadata": {},
     "output_type": "execute_result"
    },
    {
     "data": {
      "image/png": "[encoded data removed]",
      "text/plain": [
       "<Figure size 800x550 with 1 Axes>"
      ]
     },
     "metadata": {},
     "output_type": "display_data"
    }
   ],
   "source": [
    "labels.value_counts(ascending=False).plot(\n",
    "    kind=\"barh\",\n",
    "    title=\"Count Label(0-9) Distrbutions\",\n",
    "    grid=False,\n",
    "    legend=True,\n",
    "    cmap=\"viridis\",\n",
    ")"
   ]
  },
  {
   "cell_type": "markdown",
   "id": "e3a127f4-254b-49cc-bffd-68e0a4872a59",
   "metadata": {},
   "source": [
    "**Spotlights**\n",
    "\n",
    "- The plot suggests that the distributions are nearly balanced. This reinforces the class label counts which range from 174 - 183.\n",
    "- Label 3 has the highest total at 183."
   ]
  },
  {
   "cell_type": "markdown",
   "id": "191f103b-4b62-4cb9-9bbb-b086c78a09a7",
   "metadata": {},
   "source": [
    "# Visualize the Data Images"
   ]
  },
  {
   "cell_type": "code",
   "execution_count": 10,
   "id": "9d1c7968-ae03-4d8b-9a15-4f4fbb9a47fa",
   "metadata": {},
   "outputs": [
    {
     "data": {
      "text/plain": [
       "<Figure size 800x550 with 0 Axes>"
      ]
     },
     "metadata": {},
     "output_type": "display_data"
    },
    {
     "data": {
      "image/png": "[encoded data removed]",
      "text/plain": [
       "<Figure size 550x550 with 1 Axes>"
      ]
     },
     "metadata": {},
     "output_type": "display_data"
    }
   ],
   "source": [
    "image = 89\n",
    "plt.gray()\n",
    "plt.matshow(digits.images[image])\n",
    "plt.show()"
   ]
  },
  {
   "cell_type": "markdown",
   "id": "ee08039c-7578-4dc7-8d03-94e7b0aa2ad6",
   "metadata": {},
   "source": [
    "### Confirm the Image\n",
    "\n",
    "The following step involves incorporating a target column into the digits dataframe, which will contain the label values. This addition will facilitate more straightforward indexing of the target values. The value retured should validate the image at index 89. "
   ]
  },
  {
   "cell_type": "code",
   "execution_count": 11,
   "id": "507068ad-b169-4d5c-b9ec-cb65bc1fa705",
   "metadata": {},
   "outputs": [
    {
     "name": "stdout",
     "output_type": "stream",
     "text": [
      "Value returned: 3\n"
     ]
    }
   ],
   "source": [
    "df[\"labels\"] = labels\n",
    "print(f\"Value returned: {df.labels.iloc[89]}\")"
   ]
  },
  {
   "cell_type": "markdown",
   "id": "88138083-2a8f-4972-83a8-2887782d18ff",
   "metadata": {},
   "source": [
    "**Spotlights**\n",
    "\n",
    "The value returned from the 89th index confirms that the image is indeed a 3."
   ]
  },
  {
   "cell_type": "markdown",
   "id": "4333cb0f-385a-4c1b-863e-e1f4414478b2",
   "metadata": {},
   "source": [
    "### Examine Sample Images\n",
    "\n",
    "To modify the subplots, start by setting up a grid of 8 by 8 for the 64 images. For each image, create a subplot in the corresponding position, which is determined by i+1. Next, present the image in the designated i-th position and ensure to include a label that reflects the target value associated with that image."
   ]
  },
  {
   "cell_type": "code",
   "execution_count": 12,
   "id": "7d6f03d5-1cd0-4903-af00-d88c74d215c0",
   "metadata": {},
   "outputs": [
    {
     "data": {
      "image/png": "[encoded data removed]",
      "text/plain": [
       "<Figure size 600x600 with 64 Axes>"
      ]
     },
     "metadata": {},
     "output_type": "display_data"
    }
   ],
   "source": [
    "def plot_images_against_labels(images, target):\n",
    "    \"\"\"Set width and  height for the figure\"\"\"\n",
    "    fig = plt.figure(figsize=(6, 6))\n",
    "\n",
    "    \"\"\"Arrange subplots\"\"\"\n",
    "\n",
    "    fig.subplots_adjust(left=0, right=1, bottom=0, top=1, hspace=0.05, wspace=0.05)\n",
    "\n",
    "    \"\"\"For the 64 images\"\"\"\n",
    "\n",
    "    for i in range(64):\n",
    "\n",
    "        \"\"\"Present the image at the i-th position\"\"\"\n",
    "\n",
    "        ax = fig.add_subplot(8, 8, i + 1, xticks=[], yticks=[])\n",
    "\n",
    "        ax.imshow(images[i], cmap=plt.cm.binary, interpolation=\"nearest\")\n",
    "\n",
    "        \"\"\"Ensure the label reflects the target value\"\"\"\n",
    "\n",
    "        ax.text(0, 7, str(target[i]))\n",
    "\n",
    "    plt.show()\n",
    "\n",
    "\n",
    "plot_images_against_labels(digits.images, digits.target)"
   ]
  },
  {
   "cell_type": "markdown",
   "id": "a9f320c4-2d7c-48c3-8043-f455fc8ccfe8",
   "metadata": {},
   "source": [
    "**Spotlights** \n",
    "\n",
    "These represent the central points of handwriting samples gathered from thirty individuals at Bogazici University in Istanbul, Turkey:\n",
    "\n",
    "- Index 0 looks like 0\n",
    "- Index 1 looks like 9\n",
    "- Index 2 looks like 2\n",
    "- Index 3 looks like 1\n",
    "- Index 4 looks like 6\n",
    "- Index 5 looks like 8\n",
    "- Index 6 looks like 4\n",
    "- Index 7 looks like 5\n",
    "- Index 8 looks like 7\n",
    "- Index 9 looks like 3\n",
    "\n",
    "It's interesting to observe that the centroids resembling the numbers 1 and 8 share a striking similarity, as do the centroids for 1 and 4."
   ]
  },
  {
   "cell_type": "markdown",
   "id": "056d43af-4bf1-48ee-9c11-09537db36cc5",
   "metadata": {},
   "source": [
    "# Create K-Means Model\n",
    "\n",
    "Now that the task is clear task, it is time to organize the 1797 distinct digit images into clusters.\n",
    "\n",
    "There are a total of 10 digits, which are 0 through 9, leading to conclude that 10 clusters are be necessary. Therefore, the value of k, representing the number of clusters, is set at 10. The random_state parameter guarantees that the model is constructed consistently each time the code is executed. Any number is appropriate for this setting."
   ]
  },
  {
   "cell_type": "code",
   "execution_count": 13,
   "id": "3a27d949-75a9-4f48-a7d3-f2db53c83543",
   "metadata": {},
   "outputs": [],
   "source": [
    "data = df.drop(columns=\"labels\")\n",
    "model = KMeans(n_clusters=10, random_state=55)"
   ]
  },
  {
   "cell_type": "code",
   "execution_count": 14,
   "id": "98880e98-cc22-4900-823f-55d6f7d4703a",
   "metadata": {},
   "outputs": [
    {
     "data": {
      "text/html": [
       "<style>#sk-container-id-1 {color: black;}#sk-container-id-1 pre{padding: 0;}#sk-container-id-1 div.sk-toggleable {background-color: white;}#sk-container-id-1 label.sk-toggleable__label {cursor: pointer;display: block;width: 100%;margin-bottom: 0;padding: 0.3em;box-sizing: border-box;text-align: center;}#sk-container-id-1 label.sk-toggleable__label-arrow:before {content: \"▸\";float: left;margin-right: 0.25em;color: #696969;}#sk-container-id-1 label.sk-toggleable__label-arrow:hover:before {color: black;}#sk-container-id-1 div.sk-estimator:hover label.sk-toggleable__label-arrow:before {color: black;}#sk-container-id-1 div.sk-toggleable__content {max-height: 0;max-width: 0;overflow: hidden;text-align: left;background-color: #f0f8ff;}#sk-container-id-1 div.sk-toggleable__content pre {margin: 0.2em;color: black;border-radius: 0.25em;background-color: #f0f8ff;}#sk-container-id-1 input.sk-toggleable__control:checked~div.sk-toggleable__content {max-height: 200px;max-width: 100%;overflow: auto;}#sk-container-id-1 input.sk-toggleable__control:checked~label.sk-toggleable__label-arrow:before {content: \"▾\";}#sk-container-id-1 div.sk-estimator input.sk-toggleable__control:checked~label.sk-toggleable__label {background-color: #d4ebff;}#sk-container-id-1 div.sk-label input.sk-toggleable__control:checked~label.sk-toggleable__label {background-color: #d4ebff;}#sk-container-id-1 input.sk-hidden--visually {border: 0;clip: rect(1px 1px 1px 1px);clip: rect(1px, 1px, 1px, 1px);height: 1px;margin: -1px;overflow: hidden;padding: 0;position: absolute;width: 1px;}#sk-container-id-1 div.sk-estimator {font-family: monospace;background-color: #f0f8ff;border: 1px dotted black;border-radius: 0.25em;box-sizing: border-box;margin-bottom: 0.5em;}#sk-container-id-1 div.sk-estimator:hover {background-color: #d4ebff;}#sk-container-id-1 div.sk-parallel-item::after {content: \"\";width: 100%;border-bottom: 1px solid gray;flex-grow: 1;}#sk-container-id-1 div.sk-label:hover label.sk-toggleable__label {background-color: #d4ebff;}#sk-container-id-1 div.sk-serial::before {content: \"\";position: absolute;border-left: 1px solid gray;box-sizing: border-box;top: 0;bottom: 0;left: 50%;z-index: 0;}#sk-container-id-1 div.sk-serial {display: flex;flex-direction: column;align-items: center;background-color: white;padding-right: 0.2em;padding-left: 0.2em;position: relative;}#sk-container-id-1 div.sk-item {position: relative;z-index: 1;}#sk-container-id-1 div.sk-parallel {display: flex;align-items: stretch;justify-content: center;background-color: white;position: relative;}#sk-container-id-1 div.sk-item::before, #sk-container-id-1 div.sk-parallel-item::before {content: \"\";position: absolute;border-left: 1px solid gray;box-sizing: border-box;top: 0;bottom: 0;left: 50%;z-index: -1;}#sk-container-id-1 div.sk-parallel-item {display: flex;flex-direction: column;z-index: 1;position: relative;background-color: white;}#sk-container-id-1 div.sk-parallel-item:first-child::after {align-self: flex-end;width: 50%;}#sk-container-id-1 div.sk-parallel-item:last-child::after {align-self: flex-start;width: 50%;}#sk-container-id-1 div.sk-parallel-item:only-child::after {width: 0;}#sk-container-id-1 div.sk-dashed-wrapped {border: 1px dashed gray;margin: 0 0.4em 0.5em 0.4em;box-sizing: border-box;padding-bottom: 0.4em;background-color: white;}#sk-container-id-1 div.sk-label label {font-family: monospace;font-weight: bold;display: inline-block;line-height: 1.2em;}#sk-container-id-1 div.sk-label-container {text-align: center;}#sk-container-id-1 div.sk-container {/* jupyter's `normalize.less` sets `[hidden] { display: none; }` but bootstrap.min.css set `[hidden] { display: none !important; }` so we also need the `!important` here to be able to override the default hidden behavior on the sphinx rendered scikit-learn.org. See: https://github.com/scikit-learn/scikit-learn/issues/21755 */display: inline-block !important;position: relative;}#sk-container-id-1 div.sk-text-repr-fallback {display: none;}</style><div id=\"sk-container-id-1\" class=\"sk-top-container\"><div class=\"sk-text-repr-fallback\"><pre>KMeans(n_clusters=10, random_state=55)</pre><b>In a Jupyter environment, please rerun this cell to show the HTML representation or trust the notebook. <br />On GitHub, the HTML representation is unable to render, please try loading this page with nbviewer.org.</b></div><div class=\"sk-container\" hidden><div class=\"sk-item\"><div class=\"sk-estimator sk-toggleable\"><input class=\"sk-toggleable__control sk-hidden--visually\" id=\"sk-estimator-id-1\" type=\"checkbox\" checked><label for=\"sk-estimator-id-1\" class=\"sk-toggleable__label sk-toggleable__label-arrow\">KMeans</label><div class=\"sk-toggleable__content\"><pre>KMeans(n_clusters=10, random_state=55)</pre></div></div></div></div></div>"
      ],
      "text/plain": [
       "KMeans(n_clusters=10, random_state=55)"
      ]
     },
     "execution_count": 14,
     "metadata": {},
     "output_type": "execute_result"
    }
   ],
   "source": [
    "model.fit(data)"
   ]
  },
  {
   "cell_type": "markdown",
   "id": "e0c49f5e-09e1-49f1-9a4e-51939ee21c1c",
   "metadata": {},
   "source": [
    "# K-Means Visualization\n",
    "\n",
    "The next step will imagine all the centroids. Since the data samples exist in a 64-dimensional space, the centroids possess values that can actually be represented as images. "
   ]
  },
  {
   "cell_type": "code",
   "execution_count": 15,
   "id": "3bcb0ed0-633c-4dc2-b0db-8be1cddbec6e",
   "metadata": {},
   "outputs": [
    {
     "data": {
      "image/png": "[encoded data removed]",
      "text/plain": [
       "<Figure size 800x300 with 10 Axes>"
      ]
     },
     "metadata": {},
     "output_type": "display_data"
    },
    {
     "data": {
      "text/plain": [
       "<Figure size 800x550 with 0 Axes>"
      ]
     },
     "metadata": {},
     "output_type": "display_data"
    }
   ],
   "source": [
    "def visualize_model_centroids(kmodel):\n",
    "    fig = plt.figure(figsize=(8, 3))\n",
    "\n",
    "    fig.suptitle(\"Cluster Center Images\", fontsize=14, fontweight=\"bold\")\n",
    "\n",
    "    \"\"\"Display each cluster center\"\"\"\n",
    "    for i in range(10):\n",
    "\n",
    "        \"\"\"Generate a grid of 2X5 and arrange subplots at i+1th position\"\"\"\n",
    "        ax = fig.add_subplot(2, 5, 1 + i)\n",
    "\n",
    "        \"\"\"Display images\"\"\"\n",
    "        ax.imshow(kmodel.cluster_centers_[i].reshape((8, 8)), cmap=plt.cm.binary)\n",
    "\n",
    "    plt.show()\n",
    "    plt.clf()\n",
    "\n",
    "\n",
    "visualize_model_centroids(model)"
   ]
  },
  {
   "cell_type": "markdown",
   "id": "8d69a844-2e48-4ec8-add1-9fed31145202",
   "metadata": {},
   "source": [
    "### Plot the Clusters"
   ]
  },
  {
   "cell_type": "code",
   "execution_count": 16,
   "id": "63586b42-f277-45f9-9235-b66945baefe5",
   "metadata": {},
   "outputs": [
    {
     "data": {
      "image/png": "[encoded data removed]",
      "text/plain": [
       "<Figure size 800x550 with 1 Axes>"
      ]
     },
     "metadata": {},
     "output_type": "display_data"
    },
    {
     "data": {
      "text/plain": [
       "<Figure size 800x550 with 0 Axes>"
      ]
     },
     "metadata": {},
     "output_type": "display_data"
    }
   ],
   "source": [
    "reduced_data = PCA(n_components=2).fit_transform(data)\n",
    "kmeans = KMeans(init=\"k-means++\", n_clusters=lcount, n_init=4)\n",
    "kmeans.fit(reduced_data)\n",
    "\n",
    "\"\"\"Adjust the mesh's step size; reducing it will enhance the quality of the VQ.\"\"\"\n",
    "h = 0.02  #  a mesh point [x_min, x_max]x[y_min, y_max].\n",
    "\n",
    "\"\"\"Visualize the decision boundary by assigning a unique color to each region.\"\"\"\n",
    "x_min, x_max = reduced_data[:, 0].min() - 1, reduced_data[:, 0].max() + 1\n",
    "y_min, y_max = reduced_data[:, 1].min() - 1, reduced_data[:, 1].max() + 1\n",
    "xx, yy = np.meshgrid(np.arange(x_min, x_max, h), np.arange(y_min, y_max, h))\n",
    "\n",
    "\"\"\"Generate labels for every point in the mesh using the most recently trained model.\"\"\"\n",
    "Z = kmeans.predict(np.c_[xx.ravel(), yy.ravel()])\n",
    "\n",
    "\"\"\"Create a color plot to display the results effectively.\"\"\"\n",
    "Z = Z.reshape(xx.shape)\n",
    "plt.figure(1)\n",
    "plt.clf()\n",
    "\n",
    "plt.imshow(\n",
    "    Z,\n",
    "    interpolation=\"nearest\",\n",
    "    extent=(xx.min(), xx.max(), yy.min(), yy.max()),\n",
    "    cmap=plt.cm.Paired,\n",
    "    aspect=\"auto\",\n",
    "    origin=\"lower\",\n",
    ")\n",
    "\n",
    "plt.plot(reduced_data[:, 0], reduced_data[:, 1], \"k.\", markersize=2)\n",
    "\n",
    "\"\"\"Mark the centroids with a white X for clear identification.\"\"\"\n",
    "centroids = kmeans.cluster_centers_\n",
    "plt.scatter(\n",
    "    centroids[:, 0],\n",
    "    centroids[:, 1],\n",
    "    marker=\"x\",\n",
    "    s=169,\n",
    "    linewidths=3,\n",
    "    color=\"w\",\n",
    "    zorder=10,\n",
    ")\n",
    "plt.title(\n",
    "    \"K-means clustering on the digits dataset (PCA-reduced data)\\n\"\n",
    "    \"Centroids are marked with white cross\"\n",
    ")\n",
    "plt.xlim(x_min, x_max)\n",
    "plt.ylim(y_min, y_max)\n",
    "plt.xticks(())\n",
    "plt.yticks(())\n",
    "plt.show()\n",
    "plt.clf()"
   ]
  },
  {
   "cell_type": "markdown",
   "id": "5a020724-152f-46f4-8ff5-8ebae593afee",
   "metadata": {},
   "source": [
    "\n",
    "\n",
    "NOTE: Each time a new K-means model is executeed, notice how the resulting clustering map varies."
   ]
  },
  {
   "cell_type": "markdown",
   "id": "c9bd0d28-d748-47a7-b4d3-97b7d398d7e0",
   "metadata": {},
   "source": [
    "# Test the Model\n",
    "\n",
    "The next step imports, loads ad feeds new samples arrays for years 2024, 2035, and 3011 from the test_sample.py file to test the KMeans model."
   ]
  },
  {
   "cell_type": "code",
   "execution_count": 17,
   "id": "00a8df16-c704-4e5d-96eb-d285c80192b8",
   "metadata": {},
   "outputs": [
    {
     "name": "stdout",
     "output_type": "stream",
     "text": [
      "Processing Sample #1 ...\n",
      "1814\n",
      "\n",
      "Processing Sample #2 ...\n",
      "1877\n",
      "\n",
      "Processing Sample #3 ...\n",
      "8400\n",
      "\n"
     ]
    }
   ],
   "source": [
    "samplset = [test_samples.sample1, test_samples.sample2, test_samples.sample3]\n",
    "index = 1\n",
    "for sample in samplset:\n",
    "    # print(f\"Sample #: {index}:\\nSET: {samplset[0]}\\n\")\n",
    "    new_labels = model.predict(sample)\n",
    "    print(f\"Processing Sample #{index} ...\")\n",
    "    index += 1\n",
    "\n",
    "    for i in range(len(new_labels)):\n",
    "        if new_labels[i] == 0:\n",
    "            print(0, end=\"\")\n",
    "        elif new_labels[i] == 1:\n",
    "            print(9, end=\"\")\n",
    "        elif new_labels[i] == 2:\n",
    "            print(2, end=\"\")\n",
    "        elif new_labels[i] == 3:\n",
    "            print(1, end=\"\")\n",
    "        elif new_labels[i] == 4:\n",
    "            print(6, end=\"\")\n",
    "        elif new_labels[i] == 5:\n",
    "            print(8, end=\"\")\n",
    "        elif new_labels[i] == 6:\n",
    "            print(4, end=\"\")\n",
    "        elif new_labels[i] == 7:\n",
    "            print(5, end=\"\")\n",
    "        elif new_labels[i] == 8:\n",
    "            print(7, end=\"\")\n",
    "        elif new_labels[i] == 9:\n",
    "            print(3, end=\"\")\n",
    "    print(\"\\n\")"
   ]
  },
  {
   "cell_type": "markdown",
   "id": "ecfbacaf-de10-4929-81db-dc11a3243f0c",
   "metadata": {},
   "source": [
    "**Spotlights** \n",
    "\n",
    "- Sample 1 predicted 1814 compared to the actual 2024\n",
    "- Sample 2 predicted 1877 compared to the actual 2035\n",
    "- Sample 3 predicted 8400 compared to the actual 2035\n",
    "- The model performed poorly recognizing hand written digits. This indicates there is room to improve the model's estimative capabilities. It is more likely that the hand written data is the issue and not the model. "
   ]
  }
 ],
 "metadata": {
  "kernelspec": {
   "display_name": "Python 3 (ipykernel)",
   "language": "python",
   "name": "python3"
  },
  "language_info": {
   "codemirror_mode": {
    "name": "ipython",
    "version": 3
   },
   "file_extension": ".py",
   "mimetype": "text/x-python",
   "name": "python",
   "nbconvert_exporter": "python",
   "pygments_lexer": "ipython3",
   "version": "3.8.18"
  }
 },
 "nbformat": 4,
 "nbformat_minor": 5
}
